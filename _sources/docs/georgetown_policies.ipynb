{
 "cells": [
  {
   "cell_type": "markdown",
   "metadata": {},
   "source": [
    "(georgetown_policies)=\n",
    "\n",
    "# Georgetown Policies\n",
    "\n",
    "## Disability\n",
    "\n",
    "If you believe you have a disability, then you should contact the Academic Resource Center (arc@georgetown.edu) for further information. The Center is located in the Leavey Center, Suite 335 (202-687-8354). The Academic Resource Center is the campus office responsible for reviewing documentation provided by students with disabilities and for determining reasonable accommodations in accordance with the Americans with Disabilities Act (ASA) and University policies. For more information, go to [http://academicsupport.georgetown.edu/disability/](http://academicsupport.georgetown.edu/disability/)\n",
    "\n",
    "## Important Academic Policies and Academic Integrity \n",
    "\n",
    "McCourt School students are expected to uphold the academic policies set forth by Georgetown University and the Graduate School of Arts and Sciences. Students should therefore familiarize themselves with all the rules, regulations, and procedures relevant to their pursuit of a Graduate School degree. The policies are located at: [http://grad.georgetown.edu/academics/policies/](http://grad.georgetown.edu/academics/policies/)\n",
    "\n",
    "Applied to this course, while I encourage collaboration on assignments and use of resources like StackOverflow, the problem sets will ask you to list who you worked on the problem set with and cite StackOverflow if it is the direct source of a code snippet. \n",
    "\n",
    "## Statement on Sexual Misconduct\n",
    "\n",
    "Please know that as a faculty member I am committed to supporting survivors of sexual misconduct, including relationship violence, sexual harassment and sexual assault.  However, university policy also requires me to report any disclosures about sexual misconduct to the Title IX Coordinator, whose role is to coordinate the University’s response to sexual misconduct. \n",
    "\n",
    "Georgetown has a number of fully confidential professional resources who can provide support and assistance to survivors of sexual assault and other forms of sexual misconduct.  These resources include:\n",
    "\n",
    "Jen Schweer, MA, LPC\n",
    "Associate Director of Health Education Services for Sexual Assault Response and Prevention\n",
    "(202) 687-0323\n",
    "jls242@georgetown.edu\n",
    "\n",
    "Erica Shirley, Trauma Specialist\n",
    "Counseling and Psychiatric Services (CAPS)\n",
    "(202) 687-6985\n",
    "els54@georgetown.edu\n",
    "\n",
    "More information about campus resources and reporting sexual misconduct can be found at [http://sexualassault.georgetown.edu](http://sexualassault.georgetown.edu).\n",
    "\n",
    "\n",
    "## Provost's Policy on Religious Observances\n",
    "\n",
    "Georgetown University promotes respect for all religions.  Any student who is unable to attend classes or to participate in any examination, presentation, or assignment on a given day because of the observance of a major religious holiday or related travel shall be excused and provided with the opportunity to make up, without unreasonable burden, any work that has been missed for this reason and shall not in any other way be penalized for the absence or rescheduled work. Students will remain responsible for all assigned work. Students should notify professors in writing at the beginning of the semester of religious observances that conflict with their classes. The Office of the Provost, in consultation with Campus Ministry and the Registrar, will publish, before classes begin for a given term, a list of major religious holidays likely to affect Georgetown students.  The Provost and the Main Campus Executive Faculty encourage faculty to accommodate students whose bona fide religious observances in other ways impede normal participation in a course.  Students who cannot be accommodated should discuss the matter with an advising dean."
   ]
  }
 ],
 "metadata": {
  "jupytext": {
   "text_representation": {
    "extension": ".md",
    "format_name": "myst"
   }
  },
  "kernelspec": {
   "display_name": "Python 3",
   "language": "python",
   "name": "python3"
  },
  "language_info": {
   "codemirror_mode": {
    "name": "ipython",
    "version": 3
   },
   "file_extension": ".py",
   "mimetype": "text/x-python",
   "name": "python",
   "nbconvert_exporter": "python",
   "pygments_lexer": "ipython3",
   "version": "3.8.5"
  },
  "source_map": [
   10
  ]
 },
 "nbformat": 4,
 "nbformat_minor": 4
}